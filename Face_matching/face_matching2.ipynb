{
 "cells": [
  {
   "cell_type": "code",
   "execution_count": 10,
   "metadata": {},
   "outputs": [
    {
     "data": {
      "application/vnd.jupyter.widget-view+json": {
       "model_id": "2a4776b6e34c4e6ca501bee378b26649",
       "version_major": 2,
       "version_minor": 0
      },
      "text/plain": [
       "FloatSlider(value=0.6, description='Threshold:', max=1.0, step=0.01)"
      ]
     },
     "metadata": {},
     "output_type": "display_data"
    },
    {
     "data": {
      "application/vnd.jupyter.widget-view+json": {
       "model_id": "e8058b617c8b4db8960b49f2fcc9bdc5",
       "version_major": 2,
       "version_minor": 0
      },
      "text/plain": [
       "FileUpload(value=(), accept='.jpg,.png', description='Upload')"
      ]
     },
     "metadata": {},
     "output_type": "display_data"
    },
    {
     "data": {
      "application/vnd.jupyter.widget-view+json": {
       "model_id": "af90f1ec524c401796a5c1836dde990d",
       "version_major": 2,
       "version_minor": 0
      },
      "text/plain": [
       "Button(description='Match Image', style=ButtonStyle())"
      ]
     },
     "metadata": {},
     "output_type": "display_data"
    },
    {
     "data": {
      "application/vnd.jupyter.widget-view+json": {
       "model_id": "77dd6251de664c19a77f7efdd779d73d",
       "version_major": 2,
       "version_minor": 0
      },
      "text/plain": [
       "Output()"
      ]
     },
     "metadata": {},
     "output_type": "display_data"
    }
   ],
   "source": [
    "import cv2\n",
    "import face_recognition\n",
    "import numpy as np\n",
    "import os\n",
    "import threading\n",
    "import keyboard\n",
    "import ipywidgets as widgets\n",
    "from IPython.display import display, clear_output\n",
    "from io import BytesIO\n",
    "from PIL import Image\n",
    "\n",
    "# Flag to indicate if 'q' has been pressed\n",
    "stop_flag = False\n",
    "\n",
    "# Function to load known faces from to_image_folder\n",
    "def load_known_faces(folder):\n",
    "    known_encodings = []\n",
    "    known_names = []\n",
    "    aadhaar_info = {}\n",
    "    for filename in os.listdir(folder):\n",
    "        if filename.endswith(('.jpg', '.png')):\n",
    "            image_path = os.path.join(folder, filename)\n",
    "            image = face_recognition.load_image_file(image_path)\n",
    "            encoding = face_recognition.face_encodings(image)\n",
    "            if encoding:\n",
    "                known_encodings.append(encoding[0])\n",
    "                name = os.path.splitext(filename)[0]  # Use filename without extension as the name\n",
    "                known_names.append(name)\n",
    "                aadhaar_info[name] = f\"Aadhaar Details for {name}: Dummy Aadhaar {name}\"\n",
    "    return known_encodings, known_names, aadhaar_info\n",
    "\n",
    "# Function to match faces\n",
    "def match_faces(image_path, threshold, known_encodings, known_names):\n",
    "    image = face_recognition.load_image_file(image_path)\n",
    "    image_encodings = face_recognition.face_encodings(image)\n",
    "\n",
    "    total_faces = len(image_encodings)\n",
    "    matched_faces = 0\n",
    "\n",
    "    for i, face_encoding in enumerate(image_encodings):\n",
    "        matches = face_recognition.compare_faces(known_encodings, face_encoding, tolerance=threshold)\n",
    "        face_distances = face_recognition.face_distance(known_encodings, face_encoding)\n",
    "        best_match_index = np.argmin(face_distances)\n",
    "        if matches[best_match_index]:\n",
    "            name = known_names[best_match_index]\n",
    "            matched_faces += 1\n",
    "        # Calculate and display percentage completion\n",
    "        percentage_complete = (i + 1) / total_faces * 100\n",
    "        print(f\"Matching progress: {percentage_complete:.2f}% complete\", end='\\r')\n",
    "\n",
    "    print(\"\\nMatching completed.\")\n",
    "    return name if matched_faces > 0 else \"Unknown\", None\n",
    "\n",
    "# Function to process a selected image and match it\n",
    "def process_selected_image(image_bytes, threshold):\n",
    "    image = Image.open(BytesIO(image_bytes))\n",
    "    image_path = os.path.join(from_image_folder, 'selected_image.jpg')\n",
    "    image.save(image_path)\n",
    "    \n",
    "    recognized_faces.clear()\n",
    "    results = []\n",
    "    matched_name, matched_index = match_faces(image_path, threshold, known_face_encodings, known_face_names)\n",
    "    results.append((os.path.basename(image_path), matched_name, matched_index))\n",
    "    if matched_name != \"Unknown\":\n",
    "        if matched_name in aadhaar_details and matched_name not in recognized_faces and matched_name != \"Nihar\":\n",
    "            recognized_faces.add(matched_name)\n",
    "    display_results(results)\n",
    "\n",
    "# Function to display matching results\n",
    "def display_results(results):\n",
    "    result_text = \"\"\n",
    "    for filename, name, matched_index in results:\n",
    "        result_text += f\"Image: {filename} - Matched Name: {name}\\n\"\n",
    "        if matched_index is not None:\n",
    "            show_matching_images(filename, matched_index)\n",
    "    with output:\n",
    "        clear_output()\n",
    "        print(result_text)\n",
    "\n",
    "# Function to show the two matching images\n",
    "def show_matching_images(filename, matched_index):\n",
    "    # Load images\n",
    "    matched_image_path = os.path.join(to_image_folder, known_face_names[matched_index] + '.jpg')\n",
    "    to_image_path = os.path.join(from_image_folder, filename)\n",
    "\n",
    "    matched_image = cv2.imread(matched_image_path)\n",
    "    to_image = cv2.imread(to_image_path)\n",
    "    \n",
    "    # Display images\n",
    "    cv2.imshow('Matched From Image', matched_image)\n",
    "    cv2.imshow('Matched To Image', to_image)\n",
    "    cv2.waitKey(0)  # Wait for any key press\n",
    "    cv2.destroyAllWindows()\n",
    "\n",
    "\n",
    "# Function to update threshold and process selected image\n",
    "def update_threshold(_):\n",
    "    threshold = threshold_slider.value\n",
    "    if uploaded_image.value:\n",
    "        # Extract the uploaded file content from the tuple\n",
    "        uploaded_file = uploaded_image.value[0]  # Assuming only one file is uploaded\n",
    "        image_content = uploaded_file['content']\n",
    "        process_selected_image(image_content, threshold)\n",
    "\n",
    "\n",
    "# Function to monitor key presses\n",
    "def monitor_key_presses():\n",
    "    global stop_flag\n",
    "    while True:\n",
    "        if keyboard.is_pressed('q'):\n",
    "            stop_flag = True\n",
    "            break\n",
    "\n",
    "# Load known faces\n",
    "to_image_folder = 'to_image_folder'\n",
    "from_image_folder = 'from_image_folder'\n",
    "recognized_faces = set()  # Set to keep track of recognized faces\n",
    "\n",
    "known_face_encodings, known_face_names, aadhaar_details = load_known_faces(to_image_folder)\n",
    "\n",
    "# Start the key press monitoring thread\n",
    "key_monitor_thread = threading.Thread(target=monitor_key_presses)\n",
    "key_monitor_thread.daemon = True\n",
    "key_monitor_thread.start()\n",
    "\n",
    "# Initialize widgets\n",
    "threshold_slider = widgets.FloatSlider(value=0.6, min=0.0, max=1.0, step=0.01, description='Threshold:')\n",
    "uploaded_image = widgets.FileUpload(accept='.jpg,.png', multiple=False)\n",
    "select_image_button = widgets.Button(description=\"Match Image\")\n",
    "\n",
    "# Register event listeners\n",
    "select_image_button.on_click(update_threshold)\n",
    "\n",
    "# Display widgets\n",
    "display(threshold_slider)\n",
    "display(uploaded_image)\n",
    "display(select_image_button)\n",
    "\n",
    "# Output widget\n",
    "output = widgets.Output()\n",
    "display(output)\n",
    "\n",
    "# Function to check for the stop flag and close the OpenCV windows\n",
    "def check_stop_flag():\n",
    "    if stop_flag:\n",
    "        cv2.destroyAllWindows()\n",
    "    else:\n",
    "        threading.Timer(0.1, check_stop_flag).start()\n",
    "\n",
    "# Start checking for the stop flag\n",
    "check_stop_flag()\n"
   ]
  }
 ],
 "metadata": {
  "kernelspec": {
   "display_name": "Python 3",
   "language": "python",
   "name": "python3"
  },
  "language_info": {
   "codemirror_mode": {
    "name": "ipython",
    "version": 3
   },
   "file_extension": ".py",
   "mimetype": "text/x-python",
   "name": "python",
   "nbconvert_exporter": "python",
   "pygments_lexer": "ipython3",
   "version": "3.8.10"
  }
 },
 "nbformat": 4,
 "nbformat_minor": 2
}
