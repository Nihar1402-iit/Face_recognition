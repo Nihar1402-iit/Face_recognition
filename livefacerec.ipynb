{
 "cells": [
  {
   "cell_type": "code",
   "execution_count": 3,
   "metadata": {},
   "outputs": [
    {
     "name": "stdout",
     "output_type": "stream",
     "text": [
      "Defaulting to user installation because normal site-packages is not writeable\n",
      "Collecting flask\n",
      "  Using cached flask-3.0.3-py3-none-any.whl.metadata (3.2 kB)\n",
      "Requirement already satisfied: Werkzeug>=3.0.0 in c:\\users\\dharm\\appdata\\roaming\\python\\python38\\site-packages (from flask) (3.0.3)\n",
      "Requirement already satisfied: Jinja2>=3.1.2 in c:\\users\\dharm\\appdata\\roaming\\python\\python38\\site-packages (from flask) (3.1.4)\n",
      "Requirement already satisfied: itsdangerous>=2.1.2 in c:\\users\\dharm\\appdata\\roaming\\python\\python38\\site-packages (from flask) (2.2.0)\n",
      "Requirement already satisfied: click>=8.1.3 in c:\\users\\dharm\\appdata\\roaming\\python\\python38\\site-packages (from flask) (8.1.7)\n",
      "Collecting blinker>=1.6.2 (from flask)\n",
      "  Using cached blinker-1.8.2-py3-none-any.whl.metadata (1.6 kB)\n",
      "Requirement already satisfied: importlib-metadata>=3.6.0 in c:\\users\\dharm\\appdata\\roaming\\python\\python38\\site-packages (from flask) (7.1.0)\n",
      "Requirement already satisfied: colorama in c:\\users\\dharm\\appdata\\roaming\\python\\python38\\site-packages (from click>=8.1.3->flask) (0.4.6)\n",
      "Requirement already satisfied: zipp>=0.5 in c:\\users\\dharm\\appdata\\roaming\\python\\python38\\site-packages (from importlib-metadata>=3.6.0->flask) (3.19.2)\n",
      "Requirement already satisfied: MarkupSafe>=2.0 in c:\\users\\dharm\\appdata\\roaming\\python\\python38\\site-packages (from Jinja2>=3.1.2->flask) (2.1.5)\n",
      "Using cached flask-3.0.3-py3-none-any.whl (101 kB)\n",
      "Using cached blinker-1.8.2-py3-none-any.whl (9.5 kB)\n",
      "Installing collected packages: blinker, flask\n",
      "Successfully installed blinker-1.8.2 flask-3.0.3\n"
     ]
    }
   ],
   "source": [
    "!pip install flask"
   ]
  },
  {
   "cell_type": "code",
   "execution_count": 4,
   "metadata": {},
   "outputs": [],
   "source": [
    "\n",
    "from flask import Flask, request, jsonify"
   ]
  },
  {
   "cell_type": "code",
   "execution_count": 2,
   "metadata": {},
   "outputs": [],
   "source": [
    "\n",
    "import cv2\n",
    "import face_recognition\n",
    "import numpy as np\n",
    "import base64"
   ]
  },
  {
   "cell_type": "code",
   "execution_count": 12,
   "metadata": {},
   "outputs": [],
   "source": [
    "app = Flask(__name__)\n",
    "\n",
    "# Load known face encodings and names\n",
    "Modi_image = face_recognition.load_image_file(\"Modi.jpg\")\n",
    "Modi_face_encoding = face_recognition.face_encodings(Modi_image)[0]\n",
    "\n",
    "Kohli_image = face_recognition.load_image_file(\"Kohli.jpg\")\n",
    "Kohli_face_encoding = face_recognition.face_encodings(Kohli_image)[0]\n",
    "\n",
    "Nihar_image = face_recognition.load_image_file(\"Nihar.jpg\")\n",
    "Nihar_face_encoding = face_recognition.face_encodings(Nihar_image)[0]\n",
    "\n",
    "known_face_encodings = [\n",
    "    Modi_face_encoding,\n",
    "    Kohli_face_encoding,\n",
    "    Nihar_face_encoding\n",
    "]\n",
    "known_face_names = [\n",
    "    \"Modi\",\n",
    "    \"Kohli\",\n",
    "    \"Nihar\"\n",
    "]\n",
    "aadhaar_details = {\n",
    "    \"Modi\": \"Aadhaar Details for Modi: [1234-5678-9101]\",\n",
    "    \"Kohli\": \"Aadhaar Details for Kohli: [2345-6789-1012]\",\n",
    "    \"Nihar\": \"Aadhaar Details for Nihar: [3456-7890-1123]\"\n",
    "}\n",
    "recognized_faces = set()"
   ]
  },
  {
   "cell_type": "code",
   "execution_count": 13,
   "metadata": {},
   "outputs": [],
   "source": [
    "\n",
    "@app.route('/process', methods=['POST'])\n",
    "def process_frame():\n",
    "    data = request.json\n",
    "    frame_data = data['frame']\n",
    "    frame = base64.b64decode(frame_data)\n",
    "    np_frame = np.frombuffer(frame, dtype=np.uint8)\n",
    "    img = cv2.imdecode(np_frame, flags=1)\n",
    "\n",
    "    small_frame = cv2.resize(img, (0, 0), fx=0.25, fy=0.25)\n",
    "    rgb_small_frame = small_frame[:, :, ::-1]\n",
    "    \n",
    "    face_locations = face_recognition.face_locations(rgb_small_frame)\n",
    "    face_encodings = face_recognition.face_encodings(rgb_small_frame, face_locations)\n",
    "\n",
    "    face_names = []\n",
    "    for face_encoding in face_encodings:\n",
    "        matches = face_recognition.compare_faces(known_face_encodings, face_encoding)\n",
    "        name = \"Unknown\"\n",
    "\n",
    "        face_distances = face_recognition.face_distance(known_face_encodings, face_encoding)\n",
    "        best_match_index = np.argmin(face_distances)\n",
    "        if matches[best_match_index]:\n",
    "            name = known_face_names[best_match_index]\n",
    "\n",
    "        face_names.append(name)\n",
    "\n",
    "        if name in aadhaar_details and name not in recognized_faces:\n",
    "            print(aadhaar_details[name])\n",
    "            recognized_faces.add(name)\n",
    "\n",
    "    response = {\n",
    "        \"face_names\": face_names,\n",
    "        \"face_locations\": face_locations\n",
    "    }\n",
    "    return jsonify(response)"
   ]
  },
  {
   "cell_type": "code",
   "execution_count": 14,
   "metadata": {},
   "outputs": [
    {
     "name": "stdout",
     "output_type": "stream",
     "text": [
      " * Serving Flask app '__main__'\n",
      " * Debug mode: on\n"
     ]
    },
    {
     "name": "stderr",
     "output_type": "stream",
     "text": [
      "WARNING: This is a development server. Do not use it in a production deployment. Use a production WSGI server instead.\n",
      " * Running on http://127.0.0.1:5001\n",
      "Press CTRL+C to quit\n",
      " * Restarting with stat\n"
     ]
    },
    {
     "ename": "SystemExit",
     "evalue": "1",
     "output_type": "error",
     "traceback": [
      "An exception has occurred, use %tb to see the full traceback.\n",
      "\u001b[1;31mSystemExit\u001b[0m\u001b[1;31m:\u001b[0m 1\n"
     ]
    }
   ],
   "source": [
    "if __name__ == '__main__':\n",
    "    app.run(debug=True, port=5001)\n"
   ]
  }
 ],
 "metadata": {
  "kernelspec": {
   "display_name": "Python 3",
   "language": "python",
   "name": "python3"
  },
  "language_info": {
   "codemirror_mode": {
    "name": "ipython",
    "version": 3
   },
   "file_extension": ".py",
   "mimetype": "text/x-python",
   "name": "python",
   "nbconvert_exporter": "python",
   "pygments_lexer": "ipython3",
   "version": "3.8.10"
  }
 },
 "nbformat": 4,
 "nbformat_minor": 2
}
